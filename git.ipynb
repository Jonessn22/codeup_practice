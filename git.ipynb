{
 "cells": [
  {
   "cell_type": "markdown",
   "id": "a528dadb",
   "metadata": {},
   "source": [
    "# git"
   ]
  },
  {
   "cell_type": "markdown",
   "id": "13efcba4",
   "metadata": {},
   "source": [
    "## Terminology\n",
    "<b>repository</b> a directory version controlled and managed by git<br> \n",
    "<b>add</b> to tell git which files to look for for next commit<br>\n",
    "<b>commit</b> creates a save point and makes an official record of our changes<br>\n",
    "<b>push</b> sends local work to github"
   ]
  },
  {
   "cell_type": "markdown",
   "id": "a94e58f7",
   "metadata": {},
   "source": [
    "## Initial Repo Setup\n",
    "1. Create a new project folder (locally) and initialize a git repository\n",
    "    - mkdir my-new-project\n",
    "    - cd my-new-project\n",
    "    - git init"
   ]
  },
  {
   "cell_type": "markdown",
   "id": "250252d9",
   "metadata": {},
   "source": [
    "2. Create a repository on Github and and add the remote to your local project folder. \n",
    "    - git remote add origin REMOTE_URL"
   ]
  },
  {
   "cell_type": "markdown",
   "id": "63bc30b9",
   "metadata": {},
   "source": [
    "3. Create a README.md file with a short description of the project, and then add and commit it. \n",
    "    - git add README.md\n",
    "    - git commit -m 'Initial Commit'"
   ]
  },
  {
   "cell_type": "markdown",
   "id": "93008f2f",
   "metadata": {},
   "source": [
    "4. Push your changes\n",
    "    - git push origin master"
   ]
  },
  {
   "cell_type": "code",
   "execution_count": null,
   "id": "97985cf6",
   "metadata": {},
   "outputs": [],
   "source": []
  }
 ],
 "metadata": {
  "kernelspec": {
   "display_name": "Python 3",
   "language": "python",
   "name": "python3"
  },
  "language_info": {
   "codemirror_mode": {
    "name": "ipython",
    "version": 3
   },
   "file_extension": ".py",
   "mimetype": "text/x-python",
   "name": "python",
   "nbconvert_exporter": "python",
   "pygments_lexer": "ipython3",
   "version": "3.8.8"
  }
 },
 "nbformat": 4,
 "nbformat_minor": 5
}
